{
  "nbformat": 4,
  "nbformat_minor": 0,
  "metadata": {
    "colab": {
      "provenance": [],
      "collapsed_sections": [],
      "authorship_tag": "ABX9TyOG/k28dNcaC1HpfL5jYLr+",
      "include_colab_link": true
    },
    "kernelspec": {
      "name": "python3",
      "display_name": "Python 3"
    },
    "language_info": {
      "name": "python"
    }
  },
  "cells": [
    {
      "cell_type": "markdown",
      "metadata": {
        "id": "view-in-github",
        "colab_type": "text"
      },
      "source": [
        "<a href=\"https://colab.research.google.com/github/Svillalba94/Test/blob/main/Test_Sebastian_Villalba.ipynb\" target=\"_parent\"><img src=\"https://colab.research.google.com/assets/colab-badge.svg\" alt=\"Open In Colab\"/></a>"
      ]
    },
    {
      "cell_type": "code",
      "execution_count": 12,
      "metadata": {
        "id": "EEobLD3BA2Q7"
      },
      "outputs": [],
      "source": [
        "import pandas as pd #Importamos la libreria que utilizaremos"
      ]
    },
    {
      "cell_type": "code",
      "source": [
        "url = \"https://raw.githubusercontent.com/Svillalba94/Test/main/datos.csv\"  #la direccion donde ubicamos los datos\n",
        "df = pd.read_csv(url)       #1) Leer los datos del archivo CSV y guardarlos en un dataframe de Pandas."
      ],
      "metadata": {
        "id": "igV-6jSLA91q"
      },
      "execution_count": 13,
      "outputs": []
    },
    {
      "cell_type": "code",
      "source": [
        "df #dataframecreado"
      ],
      "metadata": {
        "colab": {
          "base_uri": "https://localhost:8080/",
          "height": 424
        },
        "id": "_J-mrJdEDaRi",
        "outputId": "2250ed12-8e27-45a2-df68-af764d3a0c78"
      },
      "execution_count": 18,
      "outputs": [
        {
          "output_type": "execute_result",
          "data": {
            "text/plain": [
              "        Entidad    Sector       Fecha  Reportados  Validos  Rechazados\n",
              "0    Entidad 16  Sector 1  2017-08-26     1157401   902980      254421\n",
              "1    Entidad 26  Sector 3  2016-11-25     1072602   942619      129983\n",
              "2    Entidad 47  Sector 4  2017-06-07     6679692  5218259     1461433\n",
              "3    Entidad 13  Sector 1  2016-06-19     1599716  1095685      504031\n",
              "4    Entidad 15  Sector 1  2016-06-16     9010401  8237789      772612\n",
              "..          ...       ...         ...         ...      ...         ...\n",
              "487  Entidad 34  Sector 2  2015-05-20     8422492  6679559     1742933\n",
              "488  Entidad 11  Sector 5  2016-07-13     8374491  5915911     2458580\n",
              "489  Entidad 38  Sector 4  2016-10-09     6055533  4835951     1219582\n",
              "490  Entidad 43  Sector 5  2017-12-12     8746439  8018571      727868\n",
              "491  Entidad 26  Sector 4  2017-04-24     6956429  6470790      485639\n",
              "\n",
              "[492 rows x 6 columns]"
            ],
            "text/html": [
              "\n",
              "  <div id=\"df-46fc2c26-3f42-4bd5-81dc-fa5f436921b6\">\n",
              "    <div class=\"colab-df-container\">\n",
              "      <div>\n",
              "<style scoped>\n",
              "    .dataframe tbody tr th:only-of-type {\n",
              "        vertical-align: middle;\n",
              "    }\n",
              "\n",
              "    .dataframe tbody tr th {\n",
              "        vertical-align: top;\n",
              "    }\n",
              "\n",
              "    .dataframe thead th {\n",
              "        text-align: right;\n",
              "    }\n",
              "</style>\n",
              "<table border=\"1\" class=\"dataframe\">\n",
              "  <thead>\n",
              "    <tr style=\"text-align: right;\">\n",
              "      <th></th>\n",
              "      <th>Entidad</th>\n",
              "      <th>Sector</th>\n",
              "      <th>Fecha</th>\n",
              "      <th>Reportados</th>\n",
              "      <th>Validos</th>\n",
              "      <th>Rechazados</th>\n",
              "    </tr>\n",
              "  </thead>\n",
              "  <tbody>\n",
              "    <tr>\n",
              "      <th>0</th>\n",
              "      <td>Entidad 16</td>\n",
              "      <td>Sector 1</td>\n",
              "      <td>2017-08-26</td>\n",
              "      <td>1157401</td>\n",
              "      <td>902980</td>\n",
              "      <td>254421</td>\n",
              "    </tr>\n",
              "    <tr>\n",
              "      <th>1</th>\n",
              "      <td>Entidad 26</td>\n",
              "      <td>Sector 3</td>\n",
              "      <td>2016-11-25</td>\n",
              "      <td>1072602</td>\n",
              "      <td>942619</td>\n",
              "      <td>129983</td>\n",
              "    </tr>\n",
              "    <tr>\n",
              "      <th>2</th>\n",
              "      <td>Entidad 47</td>\n",
              "      <td>Sector 4</td>\n",
              "      <td>2017-06-07</td>\n",
              "      <td>6679692</td>\n",
              "      <td>5218259</td>\n",
              "      <td>1461433</td>\n",
              "    </tr>\n",
              "    <tr>\n",
              "      <th>3</th>\n",
              "      <td>Entidad 13</td>\n",
              "      <td>Sector 1</td>\n",
              "      <td>2016-06-19</td>\n",
              "      <td>1599716</td>\n",
              "      <td>1095685</td>\n",
              "      <td>504031</td>\n",
              "    </tr>\n",
              "    <tr>\n",
              "      <th>4</th>\n",
              "      <td>Entidad 15</td>\n",
              "      <td>Sector 1</td>\n",
              "      <td>2016-06-16</td>\n",
              "      <td>9010401</td>\n",
              "      <td>8237789</td>\n",
              "      <td>772612</td>\n",
              "    </tr>\n",
              "    <tr>\n",
              "      <th>...</th>\n",
              "      <td>...</td>\n",
              "      <td>...</td>\n",
              "      <td>...</td>\n",
              "      <td>...</td>\n",
              "      <td>...</td>\n",
              "      <td>...</td>\n",
              "    </tr>\n",
              "    <tr>\n",
              "      <th>487</th>\n",
              "      <td>Entidad 34</td>\n",
              "      <td>Sector 2</td>\n",
              "      <td>2015-05-20</td>\n",
              "      <td>8422492</td>\n",
              "      <td>6679559</td>\n",
              "      <td>1742933</td>\n",
              "    </tr>\n",
              "    <tr>\n",
              "      <th>488</th>\n",
              "      <td>Entidad 11</td>\n",
              "      <td>Sector 5</td>\n",
              "      <td>2016-07-13</td>\n",
              "      <td>8374491</td>\n",
              "      <td>5915911</td>\n",
              "      <td>2458580</td>\n",
              "    </tr>\n",
              "    <tr>\n",
              "      <th>489</th>\n",
              "      <td>Entidad 38</td>\n",
              "      <td>Sector 4</td>\n",
              "      <td>2016-10-09</td>\n",
              "      <td>6055533</td>\n",
              "      <td>4835951</td>\n",
              "      <td>1219582</td>\n",
              "    </tr>\n",
              "    <tr>\n",
              "      <th>490</th>\n",
              "      <td>Entidad 43</td>\n",
              "      <td>Sector 5</td>\n",
              "      <td>2017-12-12</td>\n",
              "      <td>8746439</td>\n",
              "      <td>8018571</td>\n",
              "      <td>727868</td>\n",
              "    </tr>\n",
              "    <tr>\n",
              "      <th>491</th>\n",
              "      <td>Entidad 26</td>\n",
              "      <td>Sector 4</td>\n",
              "      <td>2017-04-24</td>\n",
              "      <td>6956429</td>\n",
              "      <td>6470790</td>\n",
              "      <td>485639</td>\n",
              "    </tr>\n",
              "  </tbody>\n",
              "</table>\n",
              "<p>492 rows × 6 columns</p>\n",
              "</div>\n",
              "      <button class=\"colab-df-convert\" onclick=\"convertToInteractive('df-46fc2c26-3f42-4bd5-81dc-fa5f436921b6')\"\n",
              "              title=\"Convert this dataframe to an interactive table.\"\n",
              "              style=\"display:none;\">\n",
              "        \n",
              "  <svg xmlns=\"http://www.w3.org/2000/svg\" height=\"24px\"viewBox=\"0 0 24 24\"\n",
              "       width=\"24px\">\n",
              "    <path d=\"M0 0h24v24H0V0z\" fill=\"none\"/>\n",
              "    <path d=\"M18.56 5.44l.94 2.06.94-2.06 2.06-.94-2.06-.94-.94-2.06-.94 2.06-2.06.94zm-11 1L8.5 8.5l.94-2.06 2.06-.94-2.06-.94L8.5 2.5l-.94 2.06-2.06.94zm10 10l.94 2.06.94-2.06 2.06-.94-2.06-.94-.94-2.06-.94 2.06-2.06.94z\"/><path d=\"M17.41 7.96l-1.37-1.37c-.4-.4-.92-.59-1.43-.59-.52 0-1.04.2-1.43.59L10.3 9.45l-7.72 7.72c-.78.78-.78 2.05 0 2.83L4 21.41c.39.39.9.59 1.41.59.51 0 1.02-.2 1.41-.59l7.78-7.78 2.81-2.81c.8-.78.8-2.07 0-2.86zM5.41 20L4 18.59l7.72-7.72 1.47 1.35L5.41 20z\"/>\n",
              "  </svg>\n",
              "      </button>\n",
              "      \n",
              "  <style>\n",
              "    .colab-df-container {\n",
              "      display:flex;\n",
              "      flex-wrap:wrap;\n",
              "      gap: 12px;\n",
              "    }\n",
              "\n",
              "    .colab-df-convert {\n",
              "      background-color: #E8F0FE;\n",
              "      border: none;\n",
              "      border-radius: 50%;\n",
              "      cursor: pointer;\n",
              "      display: none;\n",
              "      fill: #1967D2;\n",
              "      height: 32px;\n",
              "      padding: 0 0 0 0;\n",
              "      width: 32px;\n",
              "    }\n",
              "\n",
              "    .colab-df-convert:hover {\n",
              "      background-color: #E2EBFA;\n",
              "      box-shadow: 0px 1px 2px rgba(60, 64, 67, 0.3), 0px 1px 3px 1px rgba(60, 64, 67, 0.15);\n",
              "      fill: #174EA6;\n",
              "    }\n",
              "\n",
              "    [theme=dark] .colab-df-convert {\n",
              "      background-color: #3B4455;\n",
              "      fill: #D2E3FC;\n",
              "    }\n",
              "\n",
              "    [theme=dark] .colab-df-convert:hover {\n",
              "      background-color: #434B5C;\n",
              "      box-shadow: 0px 1px 3px 1px rgba(0, 0, 0, 0.15);\n",
              "      filter: drop-shadow(0px 1px 2px rgba(0, 0, 0, 0.3));\n",
              "      fill: #FFFFFF;\n",
              "    }\n",
              "  </style>\n",
              "\n",
              "      <script>\n",
              "        const buttonEl =\n",
              "          document.querySelector('#df-46fc2c26-3f42-4bd5-81dc-fa5f436921b6 button.colab-df-convert');\n",
              "        buttonEl.style.display =\n",
              "          google.colab.kernel.accessAllowed ? 'block' : 'none';\n",
              "\n",
              "        async function convertToInteractive(key) {\n",
              "          const element = document.querySelector('#df-46fc2c26-3f42-4bd5-81dc-fa5f436921b6');\n",
              "          const dataTable =\n",
              "            await google.colab.kernel.invokeFunction('convertToInteractive',\n",
              "                                                     [key], {});\n",
              "          if (!dataTable) return;\n",
              "\n",
              "          const docLinkHtml = 'Like what you see? Visit the ' +\n",
              "            '<a target=\"_blank\" href=https://colab.research.google.com/notebooks/data_table.ipynb>data table notebook</a>'\n",
              "            + ' to learn more about interactive tables.';\n",
              "          element.innerHTML = '';\n",
              "          dataTable['output_type'] = 'display_data';\n",
              "          await google.colab.output.renderOutput(dataTable, element);\n",
              "          const docLink = document.createElement('div');\n",
              "          docLink.innerHTML = docLinkHtml;\n",
              "          element.appendChild(docLink);\n",
              "        }\n",
              "      </script>\n",
              "    </div>\n",
              "  </div>\n",
              "  "
            ]
          },
          "metadata": {},
          "execution_count": 18
        }
      ]
    },
    {
      "cell_type": "code",
      "source": [
        "#2) Graficar el total de registros reportados por sector usando un gráfico de torta."
      ],
      "metadata": {
        "id": "IpdlFDesEK35"
      },
      "execution_count": 19,
      "outputs": []
    },
    {
      "cell_type": "code",
      "source": [
        "import matplotlib.pyplot as plt\n"
      ],
      "metadata": {
        "id": "Z-Ov9MkjFf_w"
      },
      "execution_count": 20,
      "outputs": []
    },
    {
      "cell_type": "code",
      "source": [
        "df_Sec = df.groupby(by = 'Sector').sum()"
      ],
      "metadata": {
        "id": "5Jbm4boZHkQM"
      },
      "execution_count": 28,
      "outputs": []
    },
    {
      "cell_type": "code",
      "source": [
        "plt.title(\"Registros que se reportaron por SECTOR\")\n",
        "plt.pie(df_Sec['Reportados'], labels=df_Sec.index, autopct= \"%0.1f %%\")\n",
        "plt.show()"
      ],
      "metadata": {
        "colab": {
          "base_uri": "https://localhost:8080/",
          "height": 264
        },
        "id": "k63DxYYlH6-y",
        "outputId": "98186da1-058e-4705-fa87-34f69f2f1528"
      },
      "execution_count": 33,
      "outputs": [
        {
          "output_type": "display_data",
          "data": {
            "text/plain": [
              "<Figure size 432x288 with 1 Axes>"
            ],
            "image/png": "[encoded data removed]"
          },
          "metadata": {}
        }
      ]
    },
    {
      "cell_type": "code",
      "source": [
        "#3) Graficar el total de registros válidos por sector usando un gráfico de torta.\n"
      ],
      "metadata": {
        "id": "OqUZ_On2II9m"
      },
      "execution_count": 34,
      "outputs": []
    },
    {
      "cell_type": "code",
      "source": [
        "df_Sect = df.groupby(by = 'Sector').sum()\n",
        "plt.title(\"Registros que se Validaron por SECTOR\")\n",
        "plt.pie(df_Sect['Validos'], labels=df_Sec.index, autopct= \"%0.1f %%\")\n",
        "plt.show()"
      ],
      "metadata": {
        "colab": {
          "base_uri": "https://localhost:8080/",
          "height": 264
        },
        "id": "cJ0qAV8SKHYa",
        "outputId": "3535247b-adcb-4ca5-dfe1-ceb9a5bb69c6"
      },
      "execution_count": 36,
      "outputs": [
        {
          "output_type": "display_data",
          "data": {
            "text/plain": [
              "<Figure size 432x288 with 1 Axes>"
            ],
            "image/png": "[encoded data removed]"
          },
          "metadata": {}
        }
      ]
    },
    {
      "cell_type": "code",
      "source": [
        "#4) Graficar el total de registros rechazados por sector usando un gráfico de torta."
      ],
      "metadata": {
        "id": "5Yf-D8d5KaMa"
      },
      "execution_count": 37,
      "outputs": []
    },
    {
      "cell_type": "code",
      "source": [
        "df_Sect = df.groupby(by = 'Sector').sum()\n",
        "plt.title(\"Registros que se Rechazaron por SECTOR\")\n",
        "plt.pie(df_Sect['Rechazados'], labels=df_Sec.index, autopct= \"%0.1f %%\")\n",
        "plt.show()"
      ],
      "metadata": {
        "colab": {
          "base_uri": "https://localhost:8080/",
          "height": 264
        },
        "id": "CN3MIKLsKkfb",
        "outputId": "cd5c54d9-bfc0-4a8c-f1e0-8b30a873d253"
      },
      "execution_count": 38,
      "outputs": [
        {
          "output_type": "display_data",
          "data": {
            "text/plain": [
              "<Figure size 432x288 with 1 Axes>"
            ],
            "image/png": "[encoded data removed]"
          },
          "metadata": {}
        }
      ]
    },
    {
      "cell_type": "code",
      "source": [
        "#5) Imprimir en salida estándar la entidad que tuvo más registros rechazados."
      ],
      "metadata": {
        "id": "Oxr2j4v6Kvw5"
      },
      "execution_count": 39,
      "outputs": []
    },
    {
      "cell_type": "code",
      "source": [
        "import numpy as np\n"
      ],
      "metadata": {
        "id": "N8cy__yrLX3s"
      },
      "execution_count": 44,
      "outputs": []
    },
    {
      "cell_type": "code",
      "source": [
        "df_s2 = df.groupby(by = 'Entidad').sum()\n",
        "df_s2 = df_s2.sort_values(by=\"Rechazados\", ascending=False).head(1)\n",
        "print(df_s2[\"Rechazados\"])"
      ],
      "metadata": {
        "colab": {
          "base_uri": "https://localhost:8080/"
        },
        "id": "3bQ2Up-zMODT",
        "outputId": "41ad378d-5fed-4579-d5cf-03b946324aab"
      },
      "execution_count": 46,
      "outputs": [
        {
          "output_type": "stream",
          "name": "stdout",
          "text": [
            "Entidad\n",
            "Entidad 47    17045277\n",
            "Name: Rechazados, dtype: int64\n"
          ]
        }
      ]
    },
    {
      "cell_type": "code",
      "source": [],
      "metadata": {
        "id": "eGb2UHrlM3Vz"
      },
      "execution_count": null,
      "outputs": []
    }
  ]
}